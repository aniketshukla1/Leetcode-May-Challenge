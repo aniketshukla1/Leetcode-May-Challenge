{
 "cells": [
  {
   "cell_type": "markdown",
   "metadata": {},
   "source": [
    "# Remove K Digits\n",
    "\n",
    "\n",
    "Given a non-negative integer num represented as a string, remove k digits from the number so that the new number is the smallest possible.\n",
    "\n",
    "Note:\n",
    "\n",
    "    The length of num is less than 10002 and will be ≥ k.\n",
    "    The given num does not contain any leading zero.\n",
    "\n",
    "Example 1:\n",
    "\n",
    "Input: num = \"1432219\"\n",
    "\n",
    "k = 3\n",
    "\n",
    "Output: \"1219\"\n",
    "\n",
    "Explanation: Remove the three digits 4, 3, and 2 to form the new number 1219 which is the smallest.\n",
    "\n",
    "\n",
    "Example 2:\n",
    "\n",
    "Input: num = \"10200\"\n",
    "\n",
    "k = 1\n",
    "\n",
    "Output: \"200\"\n",
    "\n",
    "Explanation: Remove the leading 1 and the number is 200. Note that the output must not contain leading zeroes.\n",
    "\n",
    "\n",
    "Example 3:\n",
    "\n",
    "Input: num = \"10\"\n",
    "\n",
    "k = 2\n",
    "\n",
    "Output: \"0\"\n",
    "\n",
    "Explanation: Remove all the digits from the number and it is left with nothing which is 0.\n"
   ]
  },
  {
   "cell_type": "code",
   "execution_count": 2,
   "metadata": {},
   "outputs": [],
   "source": [
    "class Solution:\n",
    "    def removeKdigits(self, num, k):\n",
    "        i = 0\n",
    "        n = len(num)\n",
    "        if k>=n:\n",
    "            return \"0\"\n",
    "        ans = list(num)\n",
    "        while k>0:\n",
    "            i = 0\n",
    "            while i<len(ans)-1 and ans[i]<=ans[i+1]:\n",
    "                i += 1\n",
    "            ans.pop(i)\n",
    "            k-=1\n",
    "        return str(int(\"\".join(ans)))\n",
    "        "
   ]
  },
  {
   "cell_type": "code",
   "execution_count": 5,
   "metadata": {},
   "outputs": [
    {
     "data": {
      "text/plain": [
       "'1219'"
      ]
     },
     "execution_count": 5,
     "metadata": {},
     "output_type": "execute_result"
    }
   ],
   "source": [
    "num = \"1432219\"\n",
    "k = 3\n",
    "Solution().removeKdigits(num,k)"
   ]
  },
  {
   "cell_type": "code",
   "execution_count": 6,
   "metadata": {},
   "outputs": [
    {
     "data": {
      "text/plain": [
       "'200'"
      ]
     },
     "execution_count": 6,
     "metadata": {},
     "output_type": "execute_result"
    }
   ],
   "source": [
    "num = \"10200\"\n",
    "k = 1\n",
    "Solution().removeKdigits(num,k)"
   ]
  },
  {
   "cell_type": "code",
   "execution_count": 7,
   "metadata": {},
   "outputs": [
    {
     "data": {
      "text/plain": [
       "'0'"
      ]
     },
     "execution_count": 7,
     "metadata": {},
     "output_type": "execute_result"
    }
   ],
   "source": [
    "num = \"10\"\n",
    "k = 2\n",
    "Solution().removeKdigits(num,k)"
   ]
  },
  {
   "cell_type": "code",
   "execution_count": null,
   "metadata": {},
   "outputs": [],
   "source": []
  }
 ],
 "metadata": {
  "kernelspec": {
   "display_name": "Python 3",
   "language": "python",
   "name": "python3"
  },
  "language_info": {
   "codemirror_mode": {
    "name": "ipython",
    "version": 3
   },
   "file_extension": ".py",
   "mimetype": "text/x-python",
   "name": "python",
   "nbconvert_exporter": "python",
   "pygments_lexer": "ipython3",
   "version": "3.7.7"
  }
 },
 "nbformat": 4,
 "nbformat_minor": 4
}
