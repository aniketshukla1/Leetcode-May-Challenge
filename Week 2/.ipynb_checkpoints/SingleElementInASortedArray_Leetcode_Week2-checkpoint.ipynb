{
 "cells": [
  {
   "cell_type": "markdown",
   "metadata": {},
   "source": [
    "# Single Element in a Sorted Array\n",
    "\n",
    "\n",
    "You are given a sorted array consisting of only integers where every element appears exactly twice, except for one element which appears exactly once. Find this single element that appears only once.\n",
    "\n",
    "Follow up: Your solution should run in O(log n) time and O(1) space.\n",
    "\n",
    "Example 1:\n",
    "\n",
    "Input: nums = [1,1,2,3,3,4,4,8,8]\n",
    "Output: 2\n",
    "\n",
    "Example 2:\n",
    "\n",
    "Input: nums = [3,3,7,7,10,11,11]\n",
    "Output: 10\n",
    "\n",
    " \n",
    "\n",
    "Constraints:\n",
    "\n",
    "    1 <= nums.length <= 10^5\n",
    "    0 <= nums[i] <= 10^5\n"
   ]
  },
  {
   "cell_type": "code",
   "execution_count": 5,
   "metadata": {},
   "outputs": [],
   "source": [
    "def divide(nums,start,end):\n",
    "    if start<end:\n",
    "        mid = (start+end)//2\n",
    "        if nums[mid-1]!=nums[mid]!=nums[mid+1]:\n",
    "            return mid\n",
    "        if mid%2==0:\n",
    "            if nums[mid]==nums[mid+1]:\n",
    "                return divide(nums,mid,end)\n",
    "            else:\n",
    "                return divide(nums,start,mid)\n",
    "        else:\n",
    "            if nums[mid-1]==nums[mid]:\n",
    "                return divide(nums,mid,end)\n",
    "            else:\n",
    "                return divide(nums,start,mid)\n",
    "            \n",
    "    return -1\n",
    "\n",
    "class Solution:\n",
    "    def singleNonDuplicate(self, nums):\n",
    "        n = len(nums)\n",
    "        if n<=1:\n",
    "            i = 0\n",
    "        elif nums[0]!=nums[1]:\n",
    "            i = 0\n",
    "        elif nums[-1]!=nums[-2]:\n",
    "            i = -1\n",
    "        else:\n",
    "            i = divide(nums,0,n-1)\n",
    "        return nums[i]"
   ]
  },
  {
   "cell_type": "code",
   "execution_count": 6,
   "metadata": {},
   "outputs": [
    {
     "data": {
      "text/plain": [
       "2"
      ]
     },
     "execution_count": 6,
     "metadata": {},
     "output_type": "execute_result"
    }
   ],
   "source": [
    "nums = [1,1,2,3,3,4,4,8,8]\n",
    "Solution().singleNonDuplicate(nums)"
   ]
  },
  {
   "cell_type": "code",
   "execution_count": 7,
   "metadata": {},
   "outputs": [
    {
     "data": {
      "text/plain": [
       "10"
      ]
     },
     "execution_count": 7,
     "metadata": {},
     "output_type": "execute_result"
    }
   ],
   "source": [
    "nums = [3,3,7,7,10,11,11]\n",
    "Solution().singleNonDuplicate(nums)"
   ]
  },
  {
   "cell_type": "code",
   "execution_count": null,
   "metadata": {},
   "outputs": [],
   "source": []
  }
 ],
 "metadata": {
  "kernelspec": {
   "display_name": "Python 3",
   "language": "python",
   "name": "python3"
  },
  "language_info": {
   "codemirror_mode": {
    "name": "ipython",
    "version": 3
   },
   "file_extension": ".py",
   "mimetype": "text/x-python",
   "name": "python",
   "nbconvert_exporter": "python",
   "pygments_lexer": "ipython3",
   "version": "3.7.7"
  }
 },
 "nbformat": 4,
 "nbformat_minor": 4
}
