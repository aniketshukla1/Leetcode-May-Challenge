{
 "cells": [
  {
   "cell_type": "markdown",
   "metadata": {},
   "source": [
    "#  Uncrossed Lines\n",
    "\n",
    "\n",
    "\n",
    "We write the integers of A and B (in the order they are given) on two separate horizontal lines.\n",
    "\n",
    "Now, we may draw connecting lines: a straight line connecting two numbers A[i] and B[j] such that:\n",
    "\n",
    "    A[i] == B[j];\n",
    "    The line we draw does not intersect any other connecting (non-horizontal) line.\n",
    "\n",
    "Note that a connecting lines cannot intersect even at the endpoints: each number can only belong to one connecting line.\n",
    "\n",
    "Return the maximum number of connecting lines we can draw in this way.\n",
    "\n",
    " \n",
    "\n",
    "Example 1:\n",
    "\n",
    "Input: A = [1,4,2], B = [1,2,4]\n",
    "Output: 2\n",
    "Explanation: We can draw 2 uncrossed lines as in the diagram.\n",
    "We cannot draw 3 uncrossed lines, because the line from A[1]=4 to B[2]=4 will intersect the line from A[2]=2 to B[1]=2.\n",
    "\n",
    "Example 2:\n",
    "\n",
    "Input: A = [2,5,1,2,5], B = [10,5,2,1,5,2]\n",
    "Output: 3\n",
    "\n",
    "Example 3:\n",
    "\n",
    "Input: A = [1,3,7,1,7,5], B = [1,9,2,5,1]\n",
    "Output: 2\n",
    "\n",
    " \n",
    "\n",
    "Note:\n",
    "\n",
    "    1 <= A.length <= 500\n",
    "    1 <= B.length <= 500\n",
    "    1 <= A[i], B[i] <= 2000\n",
    "\n"
   ]
  },
  {
   "cell_type": "code",
   "execution_count": 1,
   "metadata": {},
   "outputs": [],
   "source": [
    "class Solution:\n",
    "    def maxUncrossedLines(self, A, B):\n",
    "        A = [ -1 ] + A\n",
    "        B = [ -1 ] + B\n",
    "        h, w = len(A), len(B)\n",
    "        dp_table = [ [ 0 for _ in range(w) ] for _ in range(h) ]\n",
    "        for y in range(1, h):\n",
    "            for x in range(1, w):\n",
    "                if A[y] == B[x]:\n",
    "                    dp_table[y][x] = dp_table[y-1][x-1] + 1\n",
    "                else:\n",
    "                    dp_table[y][x] = max( dp_table[y][x-1], dp_table[y-1][x] )\n",
    "        return dp_table[-1][-1]\n",
    "        "
   ]
  },
  {
   "cell_type": "code",
   "execution_count": 2,
   "metadata": {},
   "outputs": [
    {
     "data": {
      "text/plain": [
       "2"
      ]
     },
     "execution_count": 2,
     "metadata": {},
     "output_type": "execute_result"
    }
   ],
   "source": [
    "A = [1,4,2]\n",
    "B = [1,2,4]\n",
    "Solution().maxUncrossedLines(A,B)"
   ]
  },
  {
   "cell_type": "code",
   "execution_count": 3,
   "metadata": {},
   "outputs": [
    {
     "data": {
      "text/plain": [
       "3"
      ]
     },
     "execution_count": 3,
     "metadata": {},
     "output_type": "execute_result"
    }
   ],
   "source": [
    "A = [2,5,1,2,5]\n",
    "B = [10,5,2,1,5,2]\n",
    "Solution().maxUncrossedLines(A,B)"
   ]
  },
  {
   "cell_type": "code",
   "execution_count": 4,
   "metadata": {},
   "outputs": [
    {
     "data": {
      "text/plain": [
       "2"
      ]
     },
     "execution_count": 4,
     "metadata": {},
     "output_type": "execute_result"
    }
   ],
   "source": [
    "A = [1,3,7,1,7,5]\n",
    "B = [1,9,2,5,1]\n",
    "Solution().maxUncrossedLines(A,B)"
   ]
  },
  {
   "cell_type": "code",
   "execution_count": null,
   "metadata": {},
   "outputs": [],
   "source": []
  }
 ],
 "metadata": {
  "kernelspec": {
   "display_name": "Python 3",
   "language": "python",
   "name": "python3"
  },
  "language_info": {
   "codemirror_mode": {
    "name": "ipython",
    "version": 3
   },
   "file_extension": ".py",
   "mimetype": "text/x-python",
   "name": "python",
   "nbconvert_exporter": "python",
   "pygments_lexer": "ipython3",
   "version": "3.7.7"
  }
 },
 "nbformat": 4,
 "nbformat_minor": 4
}
