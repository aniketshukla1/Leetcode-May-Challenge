{
 "cells": [
  {
   "cell_type": "markdown",
   "metadata": {},
   "source": [
    "#  Construct Binary Search Tree from Preorder Traversal\n",
    "\n",
    "\n",
    "\n",
    "Return the root node of a binary search tree that matches the given preorder traversal.\n",
    "\n",
    "(Recall that a binary search tree is a binary tree where for every node, any descendant of node.left has a value < node.val, and any descendant of node.right has a value > node.val.  Also recall that a preorder traversal displays the value of the node first, then traverses node.left, then traverses node.right.)\n",
    "\n",
    "It's guaranteed that for the given test cases there is always possible to find a binary search tree with the given requirements.\n",
    "\n",
    "Example 1:\n",
    "\n",
    "Input: [8,5,1,7,10,12]\n",
    "Output: [8,5,10,1,7,null,12]\n",
    "\n",
    " \n",
    "\n",
    "Constraints:\n",
    "\n",
    "    1 <= preorder.length <= 100\n",
    "    1 <= preorder[i] <= 10^8\n",
    "    The values of preorder are distinct.\n",
    "\n"
   ]
  },
  {
   "cell_type": "code",
   "execution_count": 1,
   "metadata": {},
   "outputs": [],
   "source": [
    "import sys\n",
    "class Solution:\n",
    "    def bstFromPreorder(self, preorder):\n",
    "        values = collections.deque(val for val in preorder)\n",
    "        return self.build(-sys.maxsize, sys.maxsize, values)\n",
    "    \n",
    "    def build(self, minVal, maxVal, values):\n",
    "\n",
    "        if values and (minVal < values[0] < maxVal):\n",
    "            \n",
    "            val = values.popleft()                # This is O(1) operation,  vs pop(0) on list - which took O(N)\n",
    "            node = TreeNode(val)\n",
    "            node.left =  self.build(minVal, val, values)\n",
    "            node.right = self.build(val, maxVal, values)\n",
    "            return node\n",
    "        "
   ]
  },
  {
   "cell_type": "code",
   "execution_count": null,
   "metadata": {},
   "outputs": [],
   "source": []
  }
 ],
 "metadata": {
  "kernelspec": {
   "display_name": "Python 3",
   "language": "python",
   "name": "python3"
  },
  "language_info": {
   "codemirror_mode": {
    "name": "ipython",
    "version": 3
   },
   "file_extension": ".py",
   "mimetype": "text/x-python",
   "name": "python",
   "nbconvert_exporter": "python",
   "pygments_lexer": "ipython3",
   "version": "3.7.7"
  }
 },
 "nbformat": 4,
 "nbformat_minor": 4
}
