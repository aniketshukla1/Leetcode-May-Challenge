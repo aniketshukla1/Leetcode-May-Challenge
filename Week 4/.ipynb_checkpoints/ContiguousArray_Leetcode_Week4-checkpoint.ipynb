{
 "cells": [
  {
   "cell_type": "markdown",
   "metadata": {},
   "source": [
    "#  Contiguous Array\n",
    "\n",
    "\n",
    "\n",
    "Given a binary array, find the maximum length of a contiguous subarray with equal number of 0 and 1.\n",
    "\n",
    "Example 1:\n",
    "\n",
    "Input: [0,1]\n",
    "Output: 2\n",
    "Explanation: [0, 1] is the longest contiguous subarray with equal number of 0 and 1.\n",
    "\n",
    "Example 2:\n",
    "\n",
    "Input: [0,1,0]\n",
    "Output: 2\n",
    "Explanation: [0, 1] (or [1, 0]) is a longest contiguous subarray with equal number of 0 and 1.\n",
    "\n",
    "Note: The length of the given binary array will not exceed 50,000. "
   ]
  },
  {
   "cell_type": "code",
   "execution_count": 1,
   "metadata": {},
   "outputs": [],
   "source": [
    "class Solution:\n",
    "    def findMaxLength(self, arr):\n",
    "        n =  len(arr)\n",
    "        hash_map = {}   \n",
    "        curr_sum = 0 \n",
    "        max_len = 0 \n",
    "        ending_index = -1 \n",
    "        for i in range (0, n):  \n",
    "            if(arr[i] == 0):  \n",
    "                arr[i] = -1 \n",
    "            else:  \n",
    "                arr[i] = 1  \n",
    "        for i in range (0, n):  \n",
    "            curr_sum = curr_sum + arr[i]    \n",
    "            if (curr_sum == 0):  \n",
    "                max_len = i + 1 \n",
    "                ending_index = i    \n",
    "            if curr_sum in hash_map: \n",
    "                if max_len < i - hash_map[curr_sum]: \n",
    "                    max_len = i - hash_map[curr_sum] \n",
    "                    ending_index = i \n",
    "            else:   \n",
    "                hash_map[curr_sum] = i   \n",
    "        return max_len "
   ]
  },
  {
   "cell_type": "code",
   "execution_count": 2,
   "metadata": {},
   "outputs": [
    {
     "data": {
      "text/plain": [
       "2"
      ]
     },
     "execution_count": 2,
     "metadata": {},
     "output_type": "execute_result"
    }
   ],
   "source": [
    "arr = [0,1]\n",
    "Solution().findMaxLength(arr)"
   ]
  },
  {
   "cell_type": "code",
   "execution_count": 3,
   "metadata": {},
   "outputs": [
    {
     "data": {
      "text/plain": [
       "2"
      ]
     },
     "execution_count": 3,
     "metadata": {},
     "output_type": "execute_result"
    }
   ],
   "source": [
    "arr = [0,1,0]\n",
    "Solution().findMaxLength(arr)"
   ]
  },
  {
   "cell_type": "code",
   "execution_count": null,
   "metadata": {},
   "outputs": [],
   "source": []
  }
 ],
 "metadata": {
  "kernelspec": {
   "display_name": "Python 3",
   "language": "python",
   "name": "python3"
  },
  "language_info": {
   "codemirror_mode": {
    "name": "ipython",
    "version": 3
   },
   "file_extension": ".py",
   "mimetype": "text/x-python",
   "name": "python",
   "nbconvert_exporter": "python",
   "pygments_lexer": "ipython3",
   "version": "3.7.7"
  }
 },
 "nbformat": 4,
 "nbformat_minor": 4
}
