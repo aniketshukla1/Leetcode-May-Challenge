{
 "cells": [
  {
   "cell_type": "markdown",
   "metadata": {},
   "source": [
    "#  Counting Bits\n",
    "\n",
    "\n",
    "Given a non negative integer number num. For every numbers i in the range 0 ≤ i ≤ num calculate the number of 1's in their binary representation and return them as an array.\n",
    "\n",
    "Example 1:\n",
    "\n",
    "Input: 2\n",
    "Output: [0,1,1]\n",
    "\n",
    "Example 2:\n",
    "\n",
    "Input: 5\n",
    "Output: [0,1,1,2,1,2]\n",
    "\n",
    "Follow up:\n",
    "\n",
    "    It is very easy to come up with a solution with run time O(n*sizeof(integer)). But can you do it in linear time O(n) /possibly in a single pass?\n",
    "    Space complexity should be O(n).\n",
    "    Can you do it like a boss? Do it without using any builtin function like __builtin_popcount in c++ or in any other language.\n"
   ]
  },
  {
   "cell_type": "code",
   "execution_count": 3,
   "metadata": {},
   "outputs": [],
   "source": [
    "class Solution:\n",
    "    def countBits(self, num):\n",
    "        arr = [0,1]\n",
    "        if num == 0:\n",
    "            return [0]\n",
    "        if num==1:\n",
    "            return [0,1]\n",
    "        i = 2\n",
    "        j = 2\n",
    "        while i<=num:\n",
    "            while j<i*2 and j<=num:\n",
    "                arr.append(arr[j%i]+1)\n",
    "                #print(i,j)\n",
    "                j+=1            \n",
    "            i = j\n",
    "        return arr "
   ]
  },
  {
   "cell_type": "code",
   "execution_count": 4,
   "metadata": {},
   "outputs": [
    {
     "data": {
      "text/plain": [
       "[0, 1, 1]"
      ]
     },
     "execution_count": 4,
     "metadata": {},
     "output_type": "execute_result"
    }
   ],
   "source": [
    "num = 2\n",
    "Solution().countBits(num)"
   ]
  },
  {
   "cell_type": "code",
   "execution_count": 5,
   "metadata": {},
   "outputs": [
    {
     "data": {
      "text/plain": [
       "[0, 1, 1, 2, 1, 2]"
      ]
     },
     "execution_count": 5,
     "metadata": {},
     "output_type": "execute_result"
    }
   ],
   "source": [
    "num = 5\n",
    "Solution().countBits(num)"
   ]
  },
  {
   "cell_type": "code",
   "execution_count": null,
   "metadata": {},
   "outputs": [],
   "source": []
  }
 ],
 "metadata": {
  "kernelspec": {
   "display_name": "Python 3",
   "language": "python",
   "name": "python3"
  },
  "language_info": {
   "codemirror_mode": {
    "name": "ipython",
    "version": 3
   },
   "file_extension": ".py",
   "mimetype": "text/x-python",
   "name": "python",
   "nbconvert_exporter": "python",
   "pygments_lexer": "ipython3",
   "version": "3.7.7"
  }
 },
 "nbformat": 4,
 "nbformat_minor": 4
}
