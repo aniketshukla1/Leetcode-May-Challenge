{
 "cells": [
  {
   "cell_type": "markdown",
   "metadata": {},
   "source": [
    "#  Odd Even Linked List\n",
    "\n",
    "\n",
    "Given a singly linked list, group all odd nodes together followed by the even nodes. Please note here we are talking about the node number and not the value in the nodes.\n",
    "\n",
    "You should try to do it in place. The program should run in O(1) space complexity and O(nodes) time complexity.\n",
    "\n",
    "Example 1:\n",
    "\n",
    "Input: 1->2->3->4->5->NULL\n",
    "Output: 1->3->5->2->4->NULL\n",
    "\n",
    "Example 2:\n",
    "\n",
    "Input: 2->1->3->5->6->4->7->NULL\n",
    "Output: 2->3->6->7->1->5->4->NULL\n",
    "\n",
    " \n",
    "\n",
    "Constraints:\n",
    "\n",
    "    The relative order inside both the even and odd groups should remain as it was in the input.\n",
    "    The first node is considered odd, the second node even and so on ...\n",
    "    The length of the linked list is between [0, 10^4].\n",
    "\n"
   ]
  },
  {
   "cell_type": "code",
   "execution_count": 2,
   "metadata": {},
   "outputs": [],
   "source": [
    "class Solution:\n",
    "    def oddEvenList(self, head):\n",
    "        if head == None:\n",
    "            return \n",
    "        counter = 1\n",
    "        oddS = None\n",
    "        oddE = None\n",
    "        evenS = None\n",
    "        evenE = None\n",
    "        curr = head\n",
    "        while curr != None:\n",
    "            if counter%2 == 0:\n",
    "                if evenS == None:\n",
    "                    evenS = curr\n",
    "                    evenE = evenS\n",
    "                else:\n",
    "                    evenE.next = curr\n",
    "                    evenE = evenE.next\n",
    "            else:\n",
    "                if oddS == None:\n",
    "                    oddS = curr\n",
    "                    oddE = oddS\n",
    "                else:\n",
    "                    oddE.next = curr\n",
    "                    oddE = oddE.next\n",
    "            counter += 1\n",
    "            curr = curr.next\n",
    "        if evenS == None:\n",
    "            return oddS\n",
    "        else:\n",
    "            oddE.next = evenS\n",
    "            evenE.next = None\n",
    "        \n",
    "        \n",
    "        return oddS"
   ]
  },
  {
   "cell_type": "code",
   "execution_count": null,
   "metadata": {},
   "outputs": [],
   "source": []
  }
 ],
 "metadata": {
  "kernelspec": {
   "display_name": "Python 3",
   "language": "python",
   "name": "python3"
  },
  "language_info": {
   "codemirror_mode": {
    "name": "ipython",
    "version": 3
   },
   "file_extension": ".py",
   "mimetype": "text/x-python",
   "name": "python",
   "nbconvert_exporter": "python",
   "pygments_lexer": "ipython3",
   "version": "3.7.7"
  }
 },
 "nbformat": 4,
 "nbformat_minor": 4
}
