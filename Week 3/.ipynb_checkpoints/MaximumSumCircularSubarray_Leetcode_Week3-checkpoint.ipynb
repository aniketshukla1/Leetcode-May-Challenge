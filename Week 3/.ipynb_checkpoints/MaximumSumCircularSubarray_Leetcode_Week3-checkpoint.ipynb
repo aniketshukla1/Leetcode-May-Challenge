{
 "cells": [
  {
   "cell_type": "markdown",
   "metadata": {},
   "source": [
    "# Maximum Sum Circular Subarray\n",
    "\n",
    "\n",
    "Given a circular array C of integers represented by A, find the maximum possible sum of a non-empty subarray of C.\n",
    "\n",
    "Here, a circular array means the end of the array connects to the beginning of the array.  (Formally, C[i] = A[i] when 0 <= i < A.length, and C[i+A.length] = C[i] when i >= 0.)\n",
    "\n",
    "Also, a subarray may only include each element of the fixed buffer A at most once.  (Formally, for a subarray C[i], C[i+1], ..., C[j], there does not exist i <= k1, k2 <= j with k1 % A.length = k2 % A.length.)\n",
    "\n",
    " \n",
    "\n",
    "Example 1:\n",
    "\n",
    "Input: [1,-2,3,-2]\n",
    "\n",
    "Output: 3\n",
    "\n",
    "Explanation: Subarray [3] has maximum sum 3\n",
    "\n",
    "\n",
    "Example 2:\n",
    "\n",
    "Input: [5,-3,5]\n",
    "\n",
    "Output: 10\n",
    "\n",
    "Explanation: Subarray [5,5] has maximum sum 5 + 5 = 10\n",
    "\n",
    "\n",
    "Example 3:\n",
    "\n",
    "Input: [3,-1,2,-1]\n",
    "\n",
    "Output: 4\n",
    "\n",
    "Explanation: Subarray [2,-1,3] has maximum sum 2 + (-1) + 3 = 4\n",
    "\n",
    "\n",
    "Example 4:\n",
    "\n",
    "Input: [3,-2,2,-3]\n",
    "\n",
    "Output: 3\n",
    "\n",
    "Explanation: Subarray [3] and [3,-2,2] both have maximum sum 3\n",
    "\n",
    "\n",
    "Example 5:\n",
    "\n",
    "Input: [-2,-3,-1]\n",
    "\n",
    "Output: -1\n",
    "\n",
    "Explanation: Subarray [-1] has maximum sum -1\n",
    "\n",
    " \n",
    "\n",
    "Note:\n",
    "\n",
    "    -30000 <= A[i] <= 30000\n",
    "    1 <= A.length <= 30000\n"
   ]
  },
  {
   "cell_type": "code",
   "execution_count": 2,
   "metadata": {},
   "outputs": [],
   "source": [
    "def kadane(arr):\n",
    "    maxsum = -30001\n",
    "    currsum = 0\n",
    "    for i  in range(len(arr)):\n",
    "        currsum += arr[i]\n",
    "        maxsum = max(maxsum,currsum)\n",
    "        currsum = max(currsum,0)\n",
    "    return maxsum\n",
    "class Solution:\n",
    "    def maxSubarraySumCircular(self, A):\n",
    "        high = kadane(A)\n",
    "        if high < 0:\n",
    "            return high\n",
    "        total = sum(A)\n",
    "        for i in range(len(A)):\n",
    "            A[i] = -A[i]\n",
    "        low = kadane(A)\n",
    "        return max(high,total+low)"
   ]
  },
  {
   "cell_type": "code",
   "execution_count": 3,
   "metadata": {},
   "outputs": [
    {
     "data": {
      "text/plain": [
       "3"
      ]
     },
     "execution_count": 3,
     "metadata": {},
     "output_type": "execute_result"
    }
   ],
   "source": [
    "A = [1,-2,3,-2]\n",
    "Solution().maxSubarraySumCircular(A)"
   ]
  },
  {
   "cell_type": "code",
   "execution_count": 4,
   "metadata": {},
   "outputs": [
    {
     "data": {
      "text/plain": [
       "10"
      ]
     },
     "execution_count": 4,
     "metadata": {},
     "output_type": "execute_result"
    }
   ],
   "source": [
    "A = [5,-3,5]\n",
    "Solution().maxSubarraySumCircular(A)"
   ]
  },
  {
   "cell_type": "code",
   "execution_count": 5,
   "metadata": {},
   "outputs": [
    {
     "data": {
      "text/plain": [
       "4"
      ]
     },
     "execution_count": 5,
     "metadata": {},
     "output_type": "execute_result"
    }
   ],
   "source": [
    "A = [3,-1,2,-1]\n",
    "Solution().maxSubarraySumCircular(A)"
   ]
  },
  {
   "cell_type": "code",
   "execution_count": 6,
   "metadata": {},
   "outputs": [
    {
     "data": {
      "text/plain": [
       "3"
      ]
     },
     "execution_count": 6,
     "metadata": {},
     "output_type": "execute_result"
    }
   ],
   "source": [
    "A = [3,-2,2,-3]\n",
    "Solution().maxSubarraySumCircular(A)"
   ]
  },
  {
   "cell_type": "code",
   "execution_count": 7,
   "metadata": {},
   "outputs": [
    {
     "data": {
      "text/plain": [
       "-1"
      ]
     },
     "execution_count": 7,
     "metadata": {},
     "output_type": "execute_result"
    }
   ],
   "source": [
    "A =  [-2,-3,-1]\n",
    "Solution().maxSubarraySumCircular(A)"
   ]
  },
  {
   "cell_type": "code",
   "execution_count": null,
   "metadata": {},
   "outputs": [],
   "source": []
  }
 ],
 "metadata": {
  "kernelspec": {
   "display_name": "Python 3",
   "language": "python",
   "name": "python3"
  },
  "language_info": {
   "codemirror_mode": {
    "name": "ipython",
    "version": 3
   },
   "file_extension": ".py",
   "mimetype": "text/x-python",
   "name": "python",
   "nbconvert_exporter": "python",
   "pygments_lexer": "ipython3",
   "version": "3.7.7"
  }
 },
 "nbformat": 4,
 "nbformat_minor": 4
}
