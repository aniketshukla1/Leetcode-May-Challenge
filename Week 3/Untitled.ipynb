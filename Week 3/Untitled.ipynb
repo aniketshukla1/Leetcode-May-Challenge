{
 "cells": [
  {
   "cell_type": "markdown",
   "metadata": {},
   "source": [
    "#  Count Square Submatrices with All Ones\n",
    "\n",
    "\n",
    "Given a m * n matrix of ones and zeros, return how many square submatrices have all ones.\n",
    "\n",
    " \n",
    "\n",
    "Example 1:\n",
    "\n",
    "Input: matrix =\n",
    "[\n",
    "  [0,1,1,1],\n",
    "  [1,1,1,1],\n",
    "  [0,1,1,1]\n",
    "]\n",
    "Output: 15\n",
    "Explanation: \n",
    "There are 10 squares of side 1.\n",
    "There are 4 squares of side 2.\n",
    "There is  1 square of side 3.\n",
    "Total number of squares = 10 + 4 + 1 = 15.\n",
    "\n",
    "Example 2:\n",
    "\n",
    "Input: matrix = \n",
    "[\n",
    "  [1,0,1],\n",
    "  [1,1,0],\n",
    "  [1,1,0]\n",
    "]\n",
    "Output: 7\n",
    "Explanation: \n",
    "There are 6 squares of side 1.  \n",
    "There is 1 square of side 2. \n",
    "Total number of squares = 6 + 1 = 7.\n",
    "\n",
    " \n",
    "\n",
    "Constraints:\n",
    "\n",
    "    1 <= arr.length <= 300\n",
    "    1 <= arr[0].length <= 300\n",
    "    0 <= arr[i][j] <= 1\n",
    "\n"
   ]
  },
  {
   "cell_type": "code",
   "execution_count": null,
   "metadata": {},
   "outputs": [],
   "source": []
  }
 ],
 "metadata": {
  "kernelspec": {
   "display_name": "Python 3",
   "language": "python",
   "name": "python3"
  },
  "language_info": {
   "codemirror_mode": {
    "name": "ipython",
    "version": 3
   },
   "file_extension": ".py",
   "mimetype": "text/x-python",
   "name": "python",
   "nbconvert_exporter": "python",
   "pygments_lexer": "ipython3",
   "version": "3.7.7"
  }
 },
 "nbformat": 4,
 "nbformat_minor": 4
}
