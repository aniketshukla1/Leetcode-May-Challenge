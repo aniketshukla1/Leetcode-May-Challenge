{
 "cells": [
  {
   "cell_type": "markdown",
   "metadata": {},
   "source": [
    "#  Online Stock Span\n",
    "\n",
    "\n",
    "Write a class StockSpanner which collects daily price quotes for some stock, and returns the span of that stock's price for the current day.\n",
    "\n",
    "The span of the stock's price today is defined as the maximum number of consecutive days (starting from today and going backwards) for which the price of the stock was less than or equal to today's price.\n",
    "\n",
    "For example, if the price of a stock over the next 7 days were [100, 80, 60, 70, 60, 75, 85], then the stock spans would be [1, 1, 1, 2, 1, 4, 6].\n",
    "\n",
    " \n",
    "\n",
    "Example 1:\n",
    "\n",
    "Input: [\"StockSpanner\",\"next\",\"next\",\"next\",\"next\",\"next\",\"next\",\"next\"], [[],[100],[80],[60],[70],[60],[75],[85]]\n",
    "Output: [null,1,1,1,2,1,4,6]\n",
    "Explanation: \n",
    "First, S = StockSpanner() is initialized.  Then:\n",
    "S.next(100) is called and returns 1,\n",
    "S.next(80) is called and returns 1,\n",
    "S.next(60) is called and returns 1,\n",
    "S.next(70) is called and returns 2,\n",
    "S.next(60) is called and returns 1,\n",
    "S.next(75) is called and returns 4,\n",
    "S.next(85) is called and returns 6.\n",
    "\n",
    "Note that (for example) S.next(75) returned 4, because the last 4 prices\n",
    "(including today's price of 75) were less than or equal to today's price.\n",
    "\n",
    " \n",
    "\n",
    "Note:\n",
    "\n",
    "    Calls to StockSpanner.next(int price) will have 1 <= price <= 10^5.\n",
    "    There will be at most 10000 calls to StockSpanner.next per test case.\n",
    "    There will be at most 150000 calls to StockSpanner.next across all test cases.\n",
    "    The total time limit for this problem has been reduced by 75% for C++, and 50% for all other languages.\n",
    "\n"
   ]
  },
  {
   "cell_type": "code",
   "execution_count": 1,
   "metadata": {},
   "outputs": [],
   "source": [
    "class StockSpanner:\n",
    "    def __init__(self):\n",
    "        self.myStack = []\n",
    "        self.ans = []\n",
    "        self.index= 0\n",
    "    def next(self, price: int) -> int:\n",
    "        \n",
    "        span = -1\n",
    "        if self.index == 0:\n",
    "            self.myStack.append(price)\n",
    "            self.ans.append(self.index)\n",
    "            self.index +=1\n",
    "            span = self.index\n",
    "        else:\n",
    "            while len(self.ans)>0 and self.myStack[-1] <= price:\n",
    "                self.myStack.pop()\n",
    "                self.ans.pop()\n",
    "                #print(\"True\")\n",
    "            if len(self.myStack) == 0:\n",
    "                span = self.index+1\n",
    "            else:\n",
    "                span = self.index - self.ans[-1]\n",
    "                \n",
    "            self.myStack.append(price)\n",
    "            self.ans.append(self.index)\n",
    "            #print(self.index, self.myStack , self.ans)\n",
    "            \n",
    "            self.index +=1\n",
    "        return span\n",
    "        "
   ]
  },
  {
   "cell_type": "code",
   "execution_count": null,
   "metadata": {},
   "outputs": [],
   "source": []
  }
 ],
 "metadata": {
  "kernelspec": {
   "display_name": "Python 3",
   "language": "python",
   "name": "python3"
  },
  "language_info": {
   "codemirror_mode": {
    "name": "ipython",
    "version": 3
   },
   "file_extension": ".py",
   "mimetype": "text/x-python",
   "name": "python",
   "nbconvert_exporter": "python",
   "pygments_lexer": "ipython3",
   "version": "3.7.7"
  }
 },
 "nbformat": 4,
 "nbformat_minor": 4
}
