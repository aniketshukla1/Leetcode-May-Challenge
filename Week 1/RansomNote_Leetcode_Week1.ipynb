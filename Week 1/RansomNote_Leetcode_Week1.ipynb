{
 "cells": [
  {
   "cell_type": "markdown",
   "metadata": {},
   "source": [
    "# Ransom Note\n",
    "\n",
    "\n",
    "Given an arbitrary ransom note string and another string containing letters from all the magazines, write a \n",
    "\n",
    "function that will return true if the ransom note can be constructed from the magazines ; otherwise, it will \n",
    "\n",
    "return false.\n",
    "\n",
    "Each letter in the magazine string can only be used once in your ransom note.\n",
    "\n",
    " \n",
    "\n",
    "Example 1:\n",
    "\n",
    "Input: ransomNote = \"a\", magazine = \"b\"\n",
    "\n",
    "Output: false\n",
    "\n",
    "\n",
    "Example 2:\n",
    "\n",
    "Input: ransomNote = \"aa\", magazine = \"ab\"\n",
    "\n",
    "Output: false\n",
    "\n",
    "\n",
    "Example 3:\n",
    "\n",
    "Input: ransomNote = \"aa\", magazine = \"aab\"\n",
    "\n",
    "Output: true\n",
    "\n",
    " \n",
    "\n",
    "Constraints:\n",
    "\n",
    "---->   You may assume that both strings contain only lowercase letters.\n",
    "\n"
   ]
  },
  {
   "cell_type": "code",
   "execution_count": 3,
   "metadata": {},
   "outputs": [],
   "source": [
    "from collections import defaultdict\n",
    "class Solution:\n",
    "    def canConstruct(self, ransomNote: str, magazine: str) -> bool:\n",
    "        charDict = defaultdict(int)\n",
    "        for counter in magazine:\n",
    "            charDict[counter] += 1\n",
    "        for counter in ransomNote:\n",
    "            if counter not in charDict or charDict[counter] <= 0:\n",
    "                return False\n",
    "            else:\n",
    "                charDict[counter] -=1\n",
    "        return True"
   ]
  },
  {
   "cell_type": "markdown",
   "metadata": {},
   "source": [
    "#Time Complexity ==== O(n)\n",
    "#Space Complexity ==== O(n)"
   ]
  },
  {
   "cell_type": "code",
   "execution_count": null,
   "metadata": {},
   "outputs": [],
   "source": []
  }
 ],
 "metadata": {
  "kernelspec": {
   "display_name": "Python 3",
   "language": "python",
   "name": "python3"
  },
  "language_info": {
   "codemirror_mode": {
    "name": "ipython",
    "version": 3
   },
   "file_extension": ".py",
   "mimetype": "text/x-python",
   "name": "python",
   "nbconvert_exporter": "python",
   "pygments_lexer": "ipython3",
   "version": "3.7.6"
  }
 },
 "nbformat": 4,
 "nbformat_minor": 4
}
