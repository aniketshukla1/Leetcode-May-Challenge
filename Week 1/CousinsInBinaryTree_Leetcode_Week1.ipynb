{
 "cells": [
  {
   "cell_type": "markdown",
   "metadata": {},
   "source": [
    "# Cousins in Binary Tree\n",
    "\n",
    "\n",
    "\n",
    "\n",
    "In a binary tree, the root node is at depth 0, and children of each depth k node are at depth k+1.\n",
    "\n",
    "Two nodes of a binary tree are cousins if they have the same depth, but have different parents.\n",
    "\n",
    "We are given the root of a binary tree with unique values, and the values x and y of two different nodes in the tree.\n",
    "\n",
    "Return true if and only if the nodes corresponding to the values x and y are cousins.\n",
    "\n",
    " \n",
    "\n",
    "Example 1:\n",
    "\n",
    "Input: root = [1,2,3,4] , x = 4, y = 3\n",
    "\n",
    "Output: false\n",
    "\n",
    "\n",
    "\n",
    "Example 2:\n",
    "\n",
    "Input: root = [1,2,3,null,4,null,5], x = 5, y = 4\n",
    "\n",
    "Output: true\n",
    "\n",
    "\n",
    "\n",
    "Example 3:\n",
    "\n",
    "Input: root = [1,2,3,null,4], x = 2, y = 3\n",
    "\n",
    "Output: false\n",
    "\n",
    " \n",
    "\n",
    "Note:\n",
    "\n",
    "---->    The number of nodes in the tree will be between 2 and 100.\n",
    "---->    Each node has a unique integer value from 1 to 100.\n"
   ]
  },
  {
   "cell_type": "code",
   "execution_count": 9,
   "metadata": {},
   "outputs": [],
   "source": [
    "# Definition for a binary tree node.\n",
    "# class Node:\n",
    "#     def _init_(self, val=0, left=None, right=None):\n",
    "#         self.val = val\n",
    "#         self.left = left\n",
    "#         self.right = right\n",
    "from Node import Node\n",
    "def findCousins(root,x ,y ,heightX, heightY, parentX, parentY, height=0):\n",
    "    if root!=None:\n",
    "        if (root.left != None and root.left.val == x) or (root.right!=None and root.right.val ==x):\n",
    "            heightX[0]  = height + 1\n",
    "            parentX[0] = root.val\n",
    "        if (root.left != None and root.left.val == y) or (root.right!=None and root.right.val ==y):\n",
    "            heightY[0] = height + 1\n",
    "            parentY[0] = root.val\n",
    "            \n",
    "        if heightX[0] == -1 or heightY[0] == -1:\n",
    "            findCousins(root.left,x,y,heightX,heightY,parentX,parentY,height+1)\n",
    "        if heightX[0] == -1 or heightY[0] == -1:\n",
    "            findCousins(root.right,x,y,heightX,heightY,parentX,parentY,height+1)\n",
    "class Solution:\n",
    "    def isCousins(self, root, x, y):\n",
    "        heightX, heightY, parentX, parentY = [-1],[-1],[-1],[-1]\n",
    "        findCousins(root, x, y, heightX, heightY, parentX, parentY)\n",
    "        return heightX[0] == heightY[0] and parentX[0] != parentY[0]"
   ]
  },
  {
   "cell_type": "markdown",
   "metadata": {},
   "source": [
    "#Time Complexity ==== O(n)\n",
    "#Space Complexity ==== O(1)"
   ]
  },
  {
   "cell_type": "code",
   "execution_count": null,
   "metadata": {},
   "outputs": [],
   "source": []
  }
 ],
 "metadata": {
  "kernelspec": {
   "display_name": "Python 3",
   "language": "python",
   "name": "python3"
  },
  "language_info": {
   "codemirror_mode": {
    "name": "ipython",
    "version": 3
   },
   "file_extension": ".py",
   "mimetype": "text/x-python",
   "name": "python",
   "nbconvert_exporter": "python",
   "pygments_lexer": "ipython3",
   "version": "3.7.6"
  }
 },
 "nbformat": 4,
 "nbformat_minor": 4
}
